{
 "cells": [
  {
   "cell_type": "code",
   "execution_count": null,
   "metadata": {},
   "outputs": [],
   "source": [
    "import keyboard\n",
    "import uuid\n",
    "import time\n",
    "from PIL import Image\n",
    "from mss import mss\n"
   ]
  },
  {
   "cell_type": "code",
   "execution_count": null,
   "metadata": {},
   "outputs": [],
   "source": [
    "\"\"\"\n",
    "http://www.trex-game.skipser.com/\n",
    "\"\"\"\n",
    "\n",
    "mon = {\"top\":455, \"left\":735, \"width\":265, \"height\":140} #ekranin kullanilacak kismi\n",
    "sct = mss()\n",
    "\n",
    "i = 0\n",
    "\n",
    "def record_screen(record_id, key): #ekrani kaydetme fonksiyonu\n",
    "    global i\n",
    "    \n",
    "    i += 1\n",
    "    print(\"{}: {}\".format(key, i)) #kayit yapilan tus ve kayit sayisi\n",
    "\n",
    "    img = sct.grab(mon)\n",
    "\n",
    "    im = Image.frombytes(\"RGB\", img.size, img.rgb) #resmi olustur\n",
    "\n",
    "    im.save(\"./img/{}_{}_{}.png\".format(key, record_id, i)) #resmi kaydet\n",
    "    \n",
    "is_exit = False \n",
    "\n",
    "def exit(): #cikis fonksiyonu\n",
    "    global is_exit\n",
    "    is_exit = True\n",
    "    \n",
    "keyboard.add_hotkey(\"esc\", exit) #esc tusuna basildiginda cikis yapilacak\n",
    "\n",
    "record_id = uuid.uuid4() #kayit id'si\n",
    "\n",
    "while True:\n",
    "    \n",
    "    if is_exit: break\n",
    "\n",
    "    try:\n",
    "        if keyboard.is_pressed(keyboard.KEY_UP): #yukari tusuna basildiginda\n",
    "            record_screen(record_id, \"up\")\n",
    "\n",
    "            time.sleep(0.1)\n",
    "        elif keyboard.is_pressed(keyboard.KEY_DOWN): #asagi tusuna basildiginda\n",
    "            \n",
    "            record_screen(record_id, \"down\")\n",
    "            time.sleep(0.1) \n",
    "\n",
    "        elif keyboard.is_pressed(\"right\"): #saga tusuna basildiginda\n",
    "            record_screen(record_id, \"right\")\n",
    "            time.sleep(0.1)\n",
    "    except RuntimeError: continue\n",
    "            \n",
    "\n"
   ]
  }
 ],
 "metadata": {
  "kernelspec": {
   "display_name": "Python 3",
   "language": "python",
   "name": "python3"
  },
  "language_info": {
   "name": "python",
   "version": "3.12.2"
  }
 },
 "nbformat": 4,
 "nbformat_minor": 2
}
